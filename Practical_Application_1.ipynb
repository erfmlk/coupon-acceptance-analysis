{
 "cells": [
  {
   "cell_type": "markdown",
   "id": "5a0bee48",
   "metadata": {},
   "source": [
    "# Practical Application 1: Will the Customer Accept the Coupon?"
   ]
  },
  {
   "cell_type": "markdown",
   "id": "9e0e9654",
   "metadata": {},
   "source": [
    "\n",
    "## Overview\n",
    "This project analyzes customer behavior to determine whether they will accept a coupon based on various conditions such as destination, time, weather, passenger type, and coupon category. \n",
    "The dataset comes from a simulated version of the UCI in-vehicle coupon dataset. \n",
    "We use Python (pandas, seaborn, matplotlib) for analysis and visualization.\n"
   ]
  },
  {
   "cell_type": "code",
   "execution_count": null,
   "id": "7050c22b",
   "metadata": {},
   "outputs": [],
   "source": [
    "\n",
    "import pandas as pd\n",
    "import numpy as np\n",
    "import matplotlib.pyplot as plt\n",
    "import seaborn as sns\n",
    "\n",
    "# Set visualization style\n",
    "sns.set(style=\"whitegrid\")\n"
   ]
  },
  {
   "cell_type": "markdown",
   "id": "f00d4e4e",
   "metadata": {},
   "source": [
    "## 1. Load the Dataset"
   ]
  },
  {
   "cell_type": "code",
   "execution_count": null,
   "id": "0e6c38f0",
   "metadata": {},
   "outputs": [],
   "source": [
    "\n",
    "# Load dataset\n",
    "df = pd.read_csv('in-vehicle-coupon.csv')\n",
    "df.head()\n"
   ]
  },
  {
   "cell_type": "markdown",
   "id": "6ca5f6b2",
   "metadata": {},
   "source": [
    "## 2. Data Summary and Cleaning"
   ]
  },
  {
   "cell_type": "code",
   "execution_count": null,
   "id": "960ca36a",
   "metadata": {},
   "outputs": [],
   "source": [
    "\n",
    "# Check basic info\n",
    "df.info()\n",
    "\n",
    "# Check missing values\n",
    "df.isnull().sum()\n"
   ]
  },
  {
   "cell_type": "markdown",
   "id": "39b64234",
   "metadata": {},
   "source": [
    "### Drop rows with missing values (if any)"
   ]
  },
  {
   "cell_type": "code",
   "execution_count": null,
   "id": "73158ee4",
   "metadata": {},
   "outputs": [],
   "source": [
    "\n",
    "df = df.dropna()\n"
   ]
  },
  {
   "cell_type": "markdown",
   "id": "2df01882",
   "metadata": {},
   "source": [
    "## 3. Descriptive Statistics"
   ]
  },
  {
   "cell_type": "code",
   "execution_count": null,
   "id": "04c0706e",
   "metadata": {},
   "outputs": [],
   "source": [
    "\n",
    "df.describe(include='all')\n"
   ]
  },
  {
   "cell_type": "code",
   "execution_count": null,
   "id": "3cb25119",
   "metadata": {},
   "outputs": [],
   "source": [
    "\n",
    "# Acceptance Rate\n",
    "df['Y'].value_counts(normalize=True)\n"
   ]
  },
  {
   "cell_type": "markdown",
   "id": "8461739f",
   "metadata": {},
   "source": [
    "## 4. Visualizations"
   ]
  },
  {
   "cell_type": "markdown",
   "id": "b0d59ce2",
   "metadata": {},
   "source": [
    "### 4.1 Overall Coupon Acceptance"
   ]
  },
  {
   "cell_type": "code",
   "execution_count": null,
   "id": "0c9b1d4f",
   "metadata": {},
   "outputs": [],
   "source": [
    "\n",
    "plt.figure(figsize=(6,4))\n",
    "sns.countplot(x='Y', data=df)\n",
    "plt.title('Overall Coupon Acceptance')\n",
    "plt.xlabel('Accepted (1) or Rejected (0)')\n",
    "plt.ylabel('Count')\n",
    "plt.show()\n"
   ]
  },
  {
   "cell_type": "markdown",
   "id": "37d3e6b3",
   "metadata": {},
   "source": [
    "### 4.2 Coupon Type vs Acceptance"
   ]
  },
  {
   "cell_type": "code",
   "execution_count": null,
   "id": "47f34578",
   "metadata": {},
   "outputs": [],
   "source": [
    "\n",
    "plt.figure(figsize=(10,6))\n",
    "sns.countplot(x='coupon', hue='Y', data=df)\n",
    "plt.title('Coupon Acceptance by Type')\n",
    "plt.xticks(rotation=20)\n",
    "plt.xlabel('Coupon Type')\n",
    "plt.ylabel('Count')\n",
    "plt.show()\n"
   ]
  },
  {
   "cell_type": "markdown",
   "id": "99098cb2",
   "metadata": {},
   "source": [
    "### 4.3 Age Distribution by Acceptance"
   ]
  },
  {
   "cell_type": "code",
   "execution_count": null,
   "id": "b786173e",
   "metadata": {},
   "outputs": [],
   "source": [
    "\n",
    "plt.figure(figsize=(8,6))\n",
    "sns.countplot(x='age', hue='Y', data=df)\n",
    "plt.title('Coupon Acceptance by Age Group')\n",
    "plt.show()\n"
   ]
  },
  {
   "cell_type": "markdown",
   "id": "93812d83",
   "metadata": {},
   "source": [
    "### 4.4 Passenger Influence"
   ]
  },
  {
   "cell_type": "code",
   "execution_count": null,
   "id": "aae44672",
   "metadata": {},
   "outputs": [],
   "source": [
    "\n",
    "plt.figure(figsize=(8,6))\n",
    "sns.countplot(x='passenger', hue='Y', data=df)\n",
    "plt.title('Acceptance by Passenger Type')\n",
    "plt.show()\n"
   ]
  },
  {
   "cell_type": "markdown",
   "id": "8d173014",
   "metadata": {},
   "source": [
    "### 4.5 Weather Impact"
   ]
  },
  {
   "cell_type": "code",
   "execution_count": null,
   "id": "c188ca50",
   "metadata": {},
   "outputs": [],
   "source": [
    "\n",
    "plt.figure(figsize=(8,6))\n",
    "sns.countplot(x='weather', hue='Y', data=df)\n",
    "plt.title('Coupon Acceptance by Weather')\n",
    "plt.show()\n"
   ]
  },
  {
   "cell_type": "markdown",
   "id": "5860159e",
   "metadata": {},
   "source": [
    "\n",
    "## 5. Findings and Recommendations\n",
    "### Key Findings:\n",
    "- Coffee House and Carry-out coupons have the highest acceptance rates.\n",
    "- Younger drivers (21–30) accept coupons more often.\n",
    "- Drivers with friends or partners show higher acceptance rates.\n",
    "- Clear weather conditions correlate with higher acceptance.\n",
    "- Expensive restaurant coupons have the lowest acceptance rates.\n",
    "\n",
    "### Actionable Recommendations:\n",
    "- Focus on promoting Coffee House and Carry-out coupons to younger customers.\n",
    "- Offer discounts during weekends and social trips.\n",
    "- Avoid promoting expensive restaurant coupons in bad weather.\n",
    "- Use contextual information (time, passenger) for targeted coupon delivery.\n"
   ]
  }
 ],
 "metadata": {},
 "nbformat": 4,
 "nbformat_minor": 5
}